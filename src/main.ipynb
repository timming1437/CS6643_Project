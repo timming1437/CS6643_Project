{
  "nbformat": 4,
  "nbformat_minor": 0,
  "metadata": {
    "colab": {
      "name": "main.ipynb",
      "provenance": [],
      "collapsed_sections": []
    },
    "kernelspec": {
      "display_name": "Python 3",
      "name": "python3"
    },
    "language_info": {
      "name": "python"
    }
  },
  "cells": [
    {
      "cell_type": "code",
      "metadata": {
        "colab": {
          "base_uri": "https://localhost:8080/"
        },
        "id": "SVrXJonIdJUK",
        "outputId": "77fea3fd-8905-43c8-e906-ebc8af1a8278"
      },
      "source": [
        "from google.colab import drive\n",
        "drive.mount('/content/drive/')"
      ],
      "execution_count": 1,
      "outputs": [
        {
          "output_type": "stream",
          "text": [
            "Drive already mounted at /content/drive/; to attempt to forcibly remount, call drive.mount(\"/content/drive/\", force_remount=True).\n"
          ],
          "name": "stdout"
        }
      ]
    },
    {
      "cell_type": "code",
      "metadata": {
        "colab": {
          "base_uri": "https://localhost:8080/"
        },
        "id": "y1J5NQgRdyGz",
        "outputId": "ba38eb37-6af4-4f0b-c3a2-0f5243326a45"
      },
      "source": [
        "%pip install chess\n",
        "%pip install svglib"
      ],
      "execution_count": 4,
      "outputs": [
        {
          "output_type": "stream",
          "text": [
            "Requirement already satisfied: chess in /usr/local/lib/python3.7/dist-packages (1.5.0)\n",
            "Requirement already satisfied: svglib in /usr/local/lib/python3.7/dist-packages (1.1.0)\n",
            "Requirement already satisfied: reportlab in /usr/local/lib/python3.7/dist-packages (from svglib) (3.5.67)\n",
            "Requirement already satisfied: lxml in /usr/local/lib/python3.7/dist-packages (from svglib) (4.2.6)\n",
            "Requirement already satisfied: cssselect2>=0.2.0 in /usr/local/lib/python3.7/dist-packages (from svglib) (0.4.1)\n",
            "Requirement already satisfied: tinycss2>=0.6.0 in /usr/local/lib/python3.7/dist-packages (from svglib) (1.1.0)\n",
            "Requirement already satisfied: pillow>=4.0.0 in /usr/local/lib/python3.7/dist-packages (from reportlab->svglib) (7.1.2)\n",
            "Requirement already satisfied: webencodings in /usr/local/lib/python3.7/dist-packages (from cssselect2>=0.2.0->svglib) (0.5.1)\n"
          ],
          "name": "stdout"
        }
      ]
    },
    {
      "cell_type": "code",
      "metadata": {
        "id": "w3Ewe9UrfPA7"
      },
      "source": [
        "import os\n",
        "os.chdir('/content/drive/My Drive/cs6643final_project/')"
      ],
      "execution_count": 2,
      "outputs": []
    },
    {
      "cell_type": "code",
      "metadata": {
        "colab": {
          "base_uri": "https://localhost:8080/"
        },
        "id": "CZjJjTM2eDsW",
        "outputId": "7e6872d0-6031-4a61-a866-ff3b4131406e"
      },
      "source": [
        "from keras.models import Model\n",
        "from keras.applications.vgg16 import VGG16\n",
        "import preprocess as pre\n"
      ],
      "execution_count": 3,
      "outputs": [
        {
          "output_type": "stream",
          "text": [
            "Drive already mounted at /content/drive/; to attempt to forcibly remount, call drive.mount(\"/content/drive/\", force_remount=True).\n"
          ],
          "name": "stdout"
        }
      ]
    },
    {
      "cell_type": "code",
      "metadata": {
        "id": "7KihHhYbioQy"
      },
      "source": [
        "import cv2\n",
        "import numpy as np\n",
        "from collections import defaultdict\n",
        "\n",
        "def segment_by_angle_kmeans(lines, k=2, **kwargs):\n",
        "\n",
        "    default_criteria_type = cv2.TERM_CRITERIA_EPS + cv2.TERM_CRITERIA_MAX_ITER\n",
        "    criteria = kwargs.get('criteria', (default_criteria_type, 10, 1.0))\n",
        "    flags = kwargs.get('flags', cv2.KMEANS_RANDOM_CENTERS)\n",
        "    attempts = kwargs.get('attempts', 10)\n",
        "\n",
        "    angles = np.array([line[0][1] for line in lines])\n",
        "    pts = np.array([[np.cos(2*angle), np.sin(2*angle)]\n",
        "                    for angle in angles], dtype=np.float32)\n",
        "\n",
        "    labels, centers = cv2.kmeans(pts, k, None, criteria, attempts, flags)[1:]\n",
        "    labels = labels.reshape(-1)\n",
        "\n",
        "    segmented = defaultdict(list)\n",
        "    for i, line in enumerate(lines):\n",
        "        segmented[labels[i]].append(line)\n",
        "    segmented = list(segmented.values())\n",
        "    return segmented\n",
        "\n",
        "def intersection(line1, line2):\n",
        "    rho1, theta1 = line1[0]\n",
        "    rho2, theta2 = line2[0]\n",
        "    A = np.array([\n",
        "        [np.cos(theta1), np.sin(theta1)],\n",
        "        [np.cos(theta2), np.sin(theta2)]\n",
        "    ])\n",
        "    b = np.array([[rho1], [rho2]])\n",
        "    x0, y0 = np.linalg.solve(A, b)\n",
        "    x0, y0 = int(np.round(x0)), int(np.round(y0))\n",
        "    return [x0, y0]\n",
        "\n",
        "def segmented_intersections(lines):\n",
        "    intersections = []\n",
        "    for i, group in enumerate(lines[:-1]):\n",
        "        for next_group in lines[i+1:]:\n",
        "            for line1 in group:\n",
        "                for line2 in next_group:\n",
        "                    intersections.append(intersection(line1, line2)) \n",
        "\n",
        "    return intersections"
      ],
      "execution_count": 4,
      "outputs": []
    },
    {
      "cell_type": "markdown",
      "metadata": {
        "id": "zSyi1Us1fKAn"
      },
      "source": [
        "# 新段落"
      ]
    },
    {
      "cell_type": "code",
      "metadata": {
        "id": "hZ40LOr2ejPS"
      },
      "source": [
        "model_folder = '/content/drive/My Drive/cs6643final_project/'\n",
        "model_file = \"modified_vgg16.h5\"\n",
        "board_imgs = [\"alpha_data_image45.jpeg\"]\n",
        "data_folder = \"data/\"\n",
        "output_file_name = \"board\"\n",
        "output_folder = \"output/\""
      ],
      "execution_count": 1,
      "outputs": []
    },
    {
      "cell_type": "code",
      "metadata": {
        "id": "Y37Pq6wbePQY"
      },
      "source": [
        "vgg = VGG16(weights=\"imagenet\", include_top = False, input_shape= (224,224,3))\n",
        "model = pre.model(vgg, model_file)"
      ],
      "execution_count": 6,
      "outputs": []
    },
    {
      "cell_type": "code",
      "metadata": {
        "id": "kQ7au1Tjk0hU"
      },
      "source": [
        "img = cv2.imread(data_folder + board_imgs[0])"
      ],
      "execution_count": 5,
      "outputs": []
    },
    {
      "cell_type": "code",
      "metadata": {
        "id": "ao_jWuaAi-Um"
      },
      "source": [
        "\n",
        "gray = cv2.cvtColor(img, cv2.COLOR_BGR2GRAY)\n",
        "blur = cv2.GaussianBlur(gray, (3,3), 0)\n",
        "edges = cv2.Canny(blur,50,200,L2gradient=False)\n",
        "lines = cv2.HoughLines(edges,1,np.pi/180,60)\n",
        "for line in lines:\n",
        "    for rho,theta in line:\n",
        "        a = np.cos(theta)\n",
        "        b = np.sin(theta)\n",
        "        x0 = a*rho\n",
        "        y0 = b*rho\n",
        "        x1 = int(x0 + 1000*(-b))\n",
        "        y1 = int(y0 + 1000*(a))\n",
        "        x2 = int(x0 - 1000*(-b))\n",
        "        y2 = int(y0 - 1000*(a))\n",
        "        cv2.line(img,(x1,y1),(x2,y2),(0,0,255),1)\n",
        "segmented = segment_by_angle_kmeans(lines)\n",
        "intersections = segmented_intersections(segmented)"
      ],
      "execution_count": 8,
      "outputs": []
    },
    {
      "cell_type": "code",
      "metadata": {
        "id": "_up9MkChljr1"
      },
      "source": [
        "## sorted points by clustering\n",
        "points = pre.group_points(intersections)\n",
        "## get the average y in each clusters\n",
        "f_points = pre.final_points(points)\n",
        "## divide the board into small patches by the intersections\n",
        "divide_the_board(img, points, \"img/\")"
      ],
      "execution_count": null,
      "outputs": []
    },
    {
      "cell_type": "code",
      "metadata": {
        "id": "iTjpcDyLrbZ9"
      },
      "source": [
        ""
      ],
      "execution_count": null,
      "outputs": []
    },
    {
      "cell_type": "code",
      "metadata": {
        "id": "FgT6LW5imY1V"
      },
      "source": [
        "## The path to the folder of images to be classified is \"img/\" (relative path), the * marker is for glob.glob() to use\n",
        "## classify each cells on the board\n",
        "labels = pre.classification(model, \"img/*\")\n",
        "## transform labels to FEN notations\n",
        "fen_notation = pre.result_to_fen(labels)\n",
        "\n",
        "## draw the board with FEN notation\n",
        "## The last parameter is the path to the output folder\n",
        "pre.draw_board(fen_notation, output_file_name, )\n",
        "output_img = cv2.imread(output_folder + output_file_name)\n",
        "cv2.imshow(output_file_name, output_img)"
      ],
      "execution_count": null,
      "outputs": []
    }
  ]
}